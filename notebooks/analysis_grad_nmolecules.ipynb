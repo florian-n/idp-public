{
 "cells": [
  {
   "cell_type": "code",
   "execution_count": 1,
   "metadata": {},
   "outputs": [],
   "source": [
    "import sys\n",
    "import os\n",
    "\n",
    "sys.path.append(os.path.abspath(os.path.join(os.getcwd(), \"..\")))\n",
    "\n",
    "# os.environ['JAX_PLATFORM_NAME'] = \"cpu\"\n",
    "# os.environ['JAX_PLATFORMS'] = \"cpu\""
   ]
  },
  {
   "cell_type": "code",
   "execution_count": 2,
   "metadata": {},
   "outputs": [
    {
     "name": "stderr",
     "output_type": "stream",
     "text": [
      "/home/florian/anaconda3/envs/jaxidp/lib/python3.11/site-packages/google/colab/data_table.py:30: UserWarning: IPython.utils.traitlets has moved to a top-level traitlets package.\n",
      "  from IPython.utils import traitlets as _traitlets\n"
     ]
    }
   ],
   "source": [
    "import jax.numpy as jnp\n",
    "import jax\n",
    "\n",
    "import numpy as onp\n",
    "\n",
    "import matplotlib.pyplot as plt\n",
    "import random\n",
    "\n",
    "from simulation.simulate_full import run_entire_simulation\n",
    "\n",
    "from analyzers import defaultvalues as dv, database, loss as loss_anaylzer, gradients as grad_analyzer\n",
    "\n",
    "database.set_filename(\"../data/grad_analyzer/nmolecules_scan.npz\")"
   ]
  },
  {
   "cell_type": "code",
   "execution_count": 3,
   "metadata": {},
   "outputs": [
    {
     "name": "stdout",
     "output_type": "stream",
     "text": [
      "[3 4 5 6 7 8]\n"
     ]
    }
   ],
   "source": [
    "N_GRADIENTS = 4\n",
    "nmolecules_values = onp.array([3, 4, 5, 6, 7, 8])\n",
    "print(nmolecules_values)"
   ]
  },
  {
   "cell_type": "code",
   "execution_count": 4,
   "metadata": {},
   "outputs": [],
   "source": [
    "def print_info(grads):\n",
    "    amean, astd = grad_analyzer.analyze_gradients_absolute(grads)\n",
    "    mmean, mstd = grad_analyzer.analyze_gradients_magnitudal(grads)\n",
    "\n",
    "    print(f\"Absolute mean: {amean}, Absolute std: {astd}\")\n",
    "    print(f\"Magnitudal mean: {mmean}, Magnitudal std: {mstd}\")"
   ]
  },
  {
   "cell_type": "code",
   "execution_count": 5,
   "metadata": {},
   "outputs": [
    {
     "name": "stdout",
     "output_type": "stream",
     "text": [
      "Skipping 3, was already computed\n",
      "Skipping 4, was already computed\n",
      "Skipping 5, was already computed\n",
      "==== for 6**3=216 molecules ====\n",
      "-2.5359074460296814e+50\n",
      "-2.7033722160245724e+50\n",
      "-1.5886815063374054e+47\n",
      "-1.52802545920439e+46\n",
      "Absolute mean: 1.3102552865266278e+50, Absolute std: 1.3107225866841572e+50\n",
      "Magnitudal mean: 48.555301668799096, Magnitudal std: 1.8971233166391877\n",
      "==== for 7**3=343 molecules ====\n",
      "1.967320961130483e+53\n",
      "1.4035513149550273e+53\n",
      "5.372182364263319e+49\n",
      "-2.531719744258954e+53\n",
      "Absolute mean: 1.4757823096452228e+53, Absolute std: 9.405024598641754e+52\n",
      "Magnitudal mean: 52.39366747251086, Magnitudal std: 1.5404658863297365\n",
      "==== for 8**3=512 molecules ====\n",
      "3.0627956928982643e+53\n",
      "3.6409251744937606e+53\n",
      "-6.2788371987991e+51\n",
      "7.553082923821574e+51\n",
      "Absolute mean: 1.7105100171545578e+53, Absolute std: 1.6540346726547596e+53\n",
      "Magnitudal mean: 52.68083331418978, Magnitudal std: 0.8437267673576795\n"
     ]
    }
   ],
   "source": [
    "for nmolecules in nmolecules_values:\n",
    "    existing_keys = database.get_existing_keys()\n",
    "    if nmolecules in existing_keys:\n",
    "        print(f\"Skipping {nmolecules}, was already computed\")\n",
    "        continue\n",
    "\n",
    "    grads = []\n",
    "    print(f\"==== for {nmolecules}**3={nmolecules**3} molecules ====\")\n",
    "    for i in range(1, N_GRADIENTS + 1):\n",
    "        key = random.randrange(0, 20000)\n",
    "        def simulation_wrapper(LJ_SIGMA_OO: float) -> float:\n",
    "            prediction = run_entire_simulation(\n",
    "                LJ_SIGMA_OO, \n",
    "                dv.N_STEPS, \n",
    "                nmolecules, \n",
    "                dv.N_SNAPSHOTS, \n",
    "                dv.N_Q, \n",
    "                key)\n",
    "            reference = run_entire_simulation(\n",
    "                dv.LJ_SIGMA_OO, \n",
    "                dv.N_STEPS, \n",
    "                nmolecules, \n",
    "                dv.N_SNAPSHOTS, \n",
    "                dv.N_Q, \n",
    "                key)\n",
    "            return loss_anaylzer.L1_loss(prediction, reference)\n",
    "        grad_fn = jax.grad(simulation_wrapper)\n",
    "        grad = grad_fn(3.1)\n",
    "        print(grad)\n",
    "        grads.append(grad)\n",
    "\n",
    "    grads = onp.array(grads)\n",
    "    print_info(grads)\n",
    "    database.save_intermediate_result(nmolecules, grads)"
   ]
  },
  {
   "cell_type": "code",
   "execution_count": 8,
   "metadata": {},
   "outputs": [
    {
     "name": "stdout",
     "output_type": "stream",
     "text": [
      "==== for 3**3=27 molecules ====\n",
      "Absolute mean: 2.808480255894132e+48, Absolute std: 3.713909149339848e+48\n",
      "Magnitudal mean: 45.70402646442572, Magnitudal std: 3.020062853441939\n",
      "==== for 4**3=64 molecules ====\n",
      "Absolute mean: 3.4976435941441275e+48, Absolute std: 5.996177702802229e+48\n",
      "Magnitudal mean: 45.605430405466464, Magnitudal std: 2.8138802757444017\n",
      "==== for 5**3=125 molecules ====\n",
      "Absolute mean: 3.827117042634167e+47, Absolute std: 3.637767069908443e+47\n",
      "Magnitudal mean: 47.15894721881544, Magnitudal std: 0.7511470226584356\n",
      "==== for 6**3=216 molecules ====\n",
      "Absolute mean: 1.3102552865266278e+50, Absolute std: 1.3107225866841572e+50\n",
      "Magnitudal mean: 48.555301668799096, Magnitudal std: 1.8971233166391877\n",
      "==== for 7**3=343 molecules ====\n",
      "Absolute mean: 1.4757823096452228e+53, Absolute std: 9.405024598641754e+52\n",
      "Magnitudal mean: 52.39366747251086, Magnitudal std: 1.5404658863297365\n",
      "==== for 8**3=512 molecules ====\n",
      "Absolute mean: 1.7105100171545578e+53, Absolute std: 1.6540346726547596e+53\n",
      "Magnitudal mean: 52.68083331418978, Magnitudal std: 0.8437267673576795\n"
     ]
    }
   ],
   "source": [
    "keys, values = database.load_result()\n",
    "for key, grads in zip(keys, values):\n",
    "    print(f\"==== for {int(key)}**3={int(key**3)} molecules ====\")\n",
    "    print_info(grads)"
   ]
  },
  {
   "cell_type": "code",
   "execution_count": null,
   "metadata": {},
   "outputs": [],
   "source": []
  }
 ],
 "metadata": {
  "kernelspec": {
   "display_name": "jaxidp",
   "language": "python",
   "name": "python3"
  },
  "language_info": {
   "codemirror_mode": {
    "name": "ipython",
    "version": 3
   },
   "file_extension": ".py",
   "mimetype": "text/x-python",
   "name": "python",
   "nbconvert_exporter": "python",
   "pygments_lexer": "ipython3",
   "version": "3.11.9"
  }
 },
 "nbformat": 4,
 "nbformat_minor": 2
}
