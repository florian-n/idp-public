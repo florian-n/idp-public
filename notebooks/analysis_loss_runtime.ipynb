{
 "cells": [
  {
   "cell_type": "markdown",
   "metadata": {
    "vscode": {
     "languageId": "plaintext"
    }
   },
   "source": [
    "# Analyze the loss based on the simulations runtime"
   ]
  },
  {
   "cell_type": "code",
   "execution_count": 2,
   "metadata": {},
   "outputs": [],
   "source": [
    "import sys\n",
    "import os\n",
    "\n",
    "sys.path.append(os.path.abspath(os.path.join(os.getcwd(), \"..\")))\n",
    "\n",
    "os.environ['JAX_PLATFORM_NAME'] = \"cpu\"\n",
    "os.environ['JAX_PLATFORMS'] = \"cpu\""
   ]
  },
  {
   "cell_type": "code",
   "execution_count": 3,
   "metadata": {},
   "outputs": [
    {
     "name": "stderr",
     "output_type": "stream",
     "text": [
      "/home/florian/anaconda3/envs/jaxidp/lib/python3.11/site-packages/google/colab/data_table.py:30: UserWarning: IPython.utils.traitlets has moved to a top-level traitlets package.\n",
      "  from IPython.utils import traitlets as _traitlets\n"
     ]
    }
   ],
   "source": [
    "import jax.numpy as jnp\n",
    "import jax\n",
    "\n",
    "import numpy as onp\n",
    "\n",
    "import matplotlib.pyplot as plt\n",
    "\n",
    "from simulation.simulate_full import run_entire_simulation\n",
    "\n",
    "import analyzers.loss as loss_anaylzer\n",
    "import analyzers.database as database"
   ]
  },
  {
   "cell_type": "code",
   "execution_count": 3,
   "metadata": {},
   "outputs": [],
   "source": [
    "scan_space = jnp.linspace(3.0000, 3.0001, 8)\n",
    "runtime_values = onp.array([12, 20, 28, 36, 44, 52, 60, 68, 76, 84, 92, 100, 108, 116, 124, 132, 140, 148, 156])\n",
    "steps = runtime_values * 1000 // 2"
   ]
  },
  {
   "cell_type": "code",
   "execution_count": 4,
   "metadata": {},
   "outputs": [],
   "source": [
    "def get_sim_result(lj_sigma_oo, runtime):\n",
    "    return run_entire_simulation(lj_sigma_oo, runtime, 6, 100, 100, 1)"
   ]
  },
  {
   "cell_type": "code",
   "execution_count": 4,
   "metadata": {},
   "outputs": [],
   "source": [
    "database.set_filename(\"../data/loss_analyzer/runtime_scan.npz\")"
   ]
  },
  {
   "cell_type": "markdown",
   "metadata": {},
   "source": [
    "Calculate losses over the scan space for each runtime from the array"
   ]
  },
  {
   "cell_type": "code",
   "execution_count": null,
   "metadata": {},
   "outputs": [
    {
     "name": "stdout",
     "output_type": "stream",
     "text": [
      "Skipping 6000, was already computed\n",
      "Skipping 10000, was already computed\n",
      "Skipping 14000, was already computed\n",
      "Skipping 18000, was already computed\n",
      "Skipping 22000, was already computed\n",
      "Skipping 26000, was already computed\n",
      "Skipping 30000, was already computed\n",
      "Skipping 34000, was already computed\n",
      "Skipping 38000, was already computed\n",
      "Skipping 42000, was already computed\n",
      "Skipping 46000, was already computed\n",
      "Skipping 50000, was already computed\n",
      "Skipping 54000, was already computed\n",
      "=== Running for 58000 steps (116ps) ===\n"
     ]
    }
   ],
   "source": [
    "all_losses = []\n",
    "\n",
    "for n_steps in steps:\n",
    "    existing_keys = database.get_existing_keys()\n",
    "    if n_steps in existing_keys:\n",
    "        print(f\"Skipping {n_steps}, was already computed\")\n",
    "        continue\n",
    "\n",
    "    print(f\"=== Running for {n_steps} steps ({n_steps // 500}ps) ===\")\n",
    "    reference = get_sim_result(3.188, n_steps)\n",
    "    losses = []\n",
    "    for lj_sigma_oo in scan_space:\n",
    "        pattern = get_sim_result(lj_sigma_oo, n_steps)\n",
    "        loss = loss_anaylzer.L1_loss(pattern, reference)\n",
    "        losses.append(loss)\n",
    "        \n",
    "    jitter = loss_anaylzer.get_loss_jitter(losses)\n",
    "    print(f\"Jitter: {jitter}\")\n",
    "\n",
    "    database.save_intermediate_result(n_steps, losses)"
   ]
  },
  {
   "cell_type": "markdown",
   "metadata": {},
   "source": [
    "# Plot\n",
    "Skip previous if data is already available"
   ]
  },
  {
   "cell_type": "code",
   "execution_count": 6,
   "metadata": {},
   "outputs": [
    {
     "data": {
      "image/png": "[encoded data removed]",
      "text/plain": [
       "<Figure size 400x120 with 1 Axes>"
      ]
     },
     "metadata": {},
     "output_type": "display_data"
    }
   ],
   "source": [
    "keys, values = database.load_result()\n",
    "jitter_values = [loss_anaylzer.get_loss_jitter(v) for v in values]\n",
    "\n",
    "plt.plot(keys / 500, jitter_values)\n",
    "plt.scatter(keys / 500, jitter_values)\n",
    "plt.xlabel(\"Time [ps]\")\n",
    "plt.ylabel(\"Loss-Jitter\")\n",
    "\n",
    "plt.gcf().set_size_inches(4, 1.2)\n",
    "plt.grid()\n",
    "plt.savefig(\"../plots/analysis_loss_runtime.svg\")\n",
    "plt.show()"
   ]
  },
  {
   "cell_type": "code",
   "execution_count": null,
   "metadata": {},
   "outputs": [],
   "source": []
  }
 ],
 "metadata": {
  "kernelspec": {
   "display_name": "jaxidp",
   "language": "python",
   "name": "python3"
  },
  "language_info": {
   "codemirror_mode": {
    "name": "ipython",
    "version": 3
   },
   "file_extension": ".py",
   "mimetype": "text/x-python",
   "name": "python",
   "nbconvert_exporter": "python",
   "pygments_lexer": "ipython3",
   "version": "3.11.9"
  }
 },
 "nbformat": 4,
 "nbformat_minor": 2
}
