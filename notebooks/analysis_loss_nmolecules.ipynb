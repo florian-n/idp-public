{
 "cells": [
  {
   "cell_type": "markdown",
   "metadata": {
    "vscode": {
     "languageId": "plaintext"
    }
   },
   "source": [
    "# Analyze the loss based on the simulations runtime"
   ]
  },
  {
   "cell_type": "code",
   "execution_count": 1,
   "metadata": {},
   "outputs": [],
   "source": [
    "import sys\n",
    "import os\n",
    "\n",
    "sys.path.append(os.path.abspath(os.path.join(os.getcwd(), \"..\")))\n",
    "\n",
    "os.environ['JAX_PLATFORM_NAME'] = \"cpu\"\n",
    "os.environ['JAX_PLATFORMS'] = \"cpu\""
   ]
  },
  {
   "cell_type": "code",
   "execution_count": 2,
   "metadata": {},
   "outputs": [
    {
     "name": "stderr",
     "output_type": "stream",
     "text": [
      "/home/florian/anaconda3/envs/jaxidp/lib/python3.11/site-packages/google/colab/data_table.py:30: UserWarning: IPython.utils.traitlets has moved to a top-level traitlets package.\n",
      "  from IPython.utils import traitlets as _traitlets\n"
     ]
    }
   ],
   "source": [
    "import jax.numpy as jnp\n",
    "import jax\n",
    "\n",
    "import numpy as onp\n",
    "\n",
    "import matplotlib.pyplot as plt\n",
    "\n",
    "from simulation.simulate_full import run_entire_simulation\n",
    "\n",
    "from analyzers import defaultvalues as dv, database, loss as loss_anaylzer"
   ]
  },
  {
   "cell_type": "code",
   "execution_count": 3,
   "metadata": {},
   "outputs": [],
   "source": [
    "scan_space = jnp.linspace(3.0000, 3.0001, 8)\n",
    "nmolecules_values = onp.array([3, 4, 5, 6, 7, 8, 9])"
   ]
  },
  {
   "cell_type": "code",
   "execution_count": 4,
   "metadata": {},
   "outputs": [],
   "source": [
    "def get_sim_result(lj_sigma_oo, n_molecules):\n",
    "    return run_entire_simulation(lj_sigma_oo, dv.N_STEPS, n_molecules, dv.N_SNAPSHOTS, dv.N_Q, 1)"
   ]
  },
  {
   "cell_type": "code",
   "execution_count": 3,
   "metadata": {},
   "outputs": [],
   "source": [
    "database.set_filename(\"../data/loss_analyzer/nmolecules_scan.npz\")"
   ]
  },
  {
   "cell_type": "markdown",
   "metadata": {},
   "source": [
    "Calculate losses over the scan space for each runtime from the array"
   ]
  },
  {
   "cell_type": "code",
   "execution_count": 6,
   "metadata": {},
   "outputs": [
    {
     "name": "stdout",
     "output_type": "stream",
     "text": [
      "Skipping 3, was already computed\n",
      "Skipping 4, was already computed\n",
      "Skipping 5, was already computed\n",
      "Skipping 6, was already computed\n",
      "Skipping 7, was already computed\n",
      "Skipping 8, was already computed\n",
      "Skipping 9, was already computed\n"
     ]
    }
   ],
   "source": [
    "all_losses = []\n",
    "\n",
    "for n_molecules in nmolecules_values:\n",
    "    existing_keys = database.get_existing_keys()\n",
    "    if n_molecules in existing_keys:\n",
    "        print(f\"Skipping {n_molecules}, was already computed\")\n",
    "        continue\n",
    "\n",
    "    print(f\"=== Running for {n_molecules}^3 = {n_molecules**3} molecules ===\")\n",
    "    reference = get_sim_result(dv.LJ_SIGMA_OO, n_molecules)\n",
    "    losses = jax.vmap(lambda lj_sigma_oo: loss_anaylzer.L1_loss(get_sim_result(lj_sigma_oo, n_molecules), reference))(scan_space)\n",
    "            \n",
    "    jitter = loss_anaylzer.get_loss_jitter(losses)\n",
    "    print(f\"Jitter: {jitter}\")\n",
    "\n",
    "    database.save_intermediate_result(n_molecules, losses)"
   ]
  },
  {
   "cell_type": "markdown",
   "metadata": {},
   "source": [
    "# Plot\n",
    "Skip previous if data is already available"
   ]
  },
  {
   "cell_type": "code",
   "execution_count": 8,
   "metadata": {},
   "outputs": [
    {
     "data": {
      "image/png": "[encoded data removed]",
      "text/plain": [
       "<Figure size 400x120 with 1 Axes>"
      ]
     },
     "metadata": {},
     "output_type": "display_data"
    }
   ],
   "source": [
    "keys, values = database.load_result()\n",
    "jitter_values = [loss_anaylzer.get_loss_jitter(v) for v in values]\n",
    "\n",
    "plt.plot(keys, jitter_values)\n",
    "plt.scatter(keys, jitter_values)\n",
    "plt.xlabel(\"(Cubic root of the) Number of molecules\")\n",
    "plt.ylabel(\"Loss-Jitter\")\n",
    "plt.yscale(\"log\")\n",
    "\n",
    "plt.grid()\n",
    "plt.gcf().set_size_inches(4, 1.2)\n",
    "plt.savefig(\"../plots/analysis_loss_nmolecules.svg\")\n",
    "plt.show()"
   ]
  },
  {
   "cell_type": "code",
   "execution_count": null,
   "metadata": {},
   "outputs": [],
   "source": []
  }
 ],
 "metadata": {
  "kernelspec": {
   "display_name": "Python (jaxidp)",
   "language": "python",
   "name": "jaxidp"
  },
  "language_info": {
   "codemirror_mode": {
    "name": "ipython",
    "version": 3
   },
   "file_extension": ".py",
   "mimetype": "text/x-python",
   "name": "python",
   "nbconvert_exporter": "python",
   "pygments_lexer": "ipython3",
   "version": "3.11.9"
  }
 },
 "nbformat": 4,
 "nbformat_minor": 2
}
