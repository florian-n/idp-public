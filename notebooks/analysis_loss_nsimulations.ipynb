{
 "cells": [
  {
   "cell_type": "markdown",
   "metadata": {
    "vscode": {
     "languageId": "plaintext"
    }
   },
   "source": [
    "# Analyze the loss based on the simulations runtime"
   ]
  },
  {
   "cell_type": "code",
   "execution_count": 1,
   "metadata": {},
   "outputs": [],
   "source": [
    "import sys\n",
    "import os\n",
    "\n",
    "sys.path.append(os.path.abspath(os.path.join(os.getcwd(), \"..\")))\n",
    "\n",
    "os.environ['JAX_PLATFORM_NAME'] = \"cpu\"\n",
    "os.environ['JAX_PLATFORMS'] = \"cpu\""
   ]
  },
  {
   "cell_type": "code",
   "execution_count": 2,
   "metadata": {},
   "outputs": [
    {
     "name": "stderr",
     "output_type": "stream",
     "text": [
      "/home/florian/anaconda3/envs/jaxidp/lib/python3.11/site-packages/google/colab/data_table.py:30: UserWarning: IPython.utils.traitlets has moved to a top-level traitlets package.\n",
      "  from IPython.utils import traitlets as _traitlets\n"
     ]
    }
   ],
   "source": [
    "import jax.numpy as jnp\n",
    "import jax\n",
    "\n",
    "import numpy as onp\n",
    "\n",
    "import matplotlib.pyplot as plt\n",
    "\n",
    "from simulation.simulate_full import run_entire_simulation\n",
    "\n",
    "from analyzers import defaultvalues as dv, database, loss as loss_anaylzer"
   ]
  },
  {
   "cell_type": "code",
   "execution_count": 3,
   "metadata": {},
   "outputs": [],
   "source": [
    "scan_space = jnp.linspace(3.0000, 3.0001, 8)\n",
    "nsimulation_values = onp.arange(1, 75)"
   ]
  },
  {
   "cell_type": "code",
   "execution_count": 4,
   "metadata": {},
   "outputs": [],
   "source": [
    "def get_sim_result(lj_sigma_oo, key):\n",
    "    return run_entire_simulation(lj_sigma_oo, dv.N_STEPS, dv.N_MOLECULES_PER_AXIS, dv.N_SNAPSHOTS, dv.N_Q, key)"
   ]
  },
  {
   "cell_type": "code",
   "execution_count": 5,
   "metadata": {},
   "outputs": [],
   "source": [
    "database.set_filename(\"../data/loss_analyzer/nsimulations_scan.npz\")"
   ]
  },
  {
   "cell_type": "markdown",
   "metadata": {},
   "source": [
    "Calculate losses over the scan space for each runtime from the array"
   ]
  },
  {
   "cell_type": "code",
   "execution_count": null,
   "metadata": {},
   "outputs": [
    {
     "name": "stdout",
     "output_type": "stream",
     "text": [
      "=== Running simulation 1 ===\n",
      "=== Running simulation 2 ===\n",
      "=== Running simulation 3 ===\n",
      "=== Running simulation 4 ===\n",
      "=== Running simulation 5 ===\n",
      "=== Running simulation 6 ===\n",
      "=== Running simulation 7 ===\n",
      "=== Running simulation 8 ===\n",
      "=== Running simulation 9 ===\n",
      "=== Running simulation 10 ===\n",
      "=== Running simulation 11 ===\n",
      "=== Running simulation 12 ===\n",
      "=== Running simulation 13 ===\n",
      "=== Running simulation 14 ===\n",
      "=== Running simulation 15 ===\n",
      "=== Running simulation 16 ===\n",
      "=== Running simulation 17 ===\n",
      "=== Running simulation 18 ===\n",
      "=== Running simulation 19 ===\n",
      "=== Running simulation 20 ===\n",
      "=== Running simulation 21 ===\n",
      "=== Running simulation 22 ===\n",
      "=== Running simulation 23 ===\n",
      "=== Running simulation 24 ===\n",
      "=== Running simulation 25 ===\n",
      "=== Running simulation 26 ===\n",
      "=== Running simulation 27 ===\n"
     ]
    }
   ],
   "source": [
    "all_losses = []\n",
    "\n",
    "for n_simulation in nsimulation_values:\n",
    "    existing_keys = database.get_existing_keys()\n",
    "    if n_simulation in existing_keys:\n",
    "        print(f\"Skipping simulation {n_simulation}, was already computed\")\n",
    "        continue\n",
    "\n",
    "    print(f\"=== Running simulation {n_simulation} ===\")\n",
    "    reference = get_sim_result(dv.LJ_SIGMA_OO, n_simulation)\n",
    "\n",
    "    losses = jax.vmap(lambda lj_sigma_oo: loss_anaylzer.L1_loss(get_sim_result(lj_sigma_oo, n_simulation), reference))(scan_space)\n",
    "\n",
    "    database.save_intermediate_result(n_simulation, onp.array(losses))"
   ]
  },
  {
   "cell_type": "markdown",
   "metadata": {},
   "source": [
    "# Plot\n",
    "Skip previous if data is already available"
   ]
  },
  {
   "cell_type": "code",
   "execution_count": 7,
   "metadata": {},
   "outputs": [
    {
     "data": {
      "image/png": "[encoded data removed]",
      "text/plain": [
       "<Figure size 400x120 with 1 Axes>"
      ]
     },
     "metadata": {},
     "output_type": "display_data"
    }
   ],
   "source": [
    "keys, values = database.load_result()\n",
    "\n",
    "jitter_values = []\n",
    "for i in range(len(keys)):\n",
    "    ix_keys = onp.random.choice(keys, i) - 1\n",
    "    #ix_keys = onp.arange(i) # onp.random.choice(keys, i) - 1\n",
    "    selected_values = values[ix_keys.astype(int)]\n",
    "    average_loss = jnp.mean(selected_values, axis=0)\n",
    "    jitter = loss_anaylzer.get_loss_jitter(average_loss)\n",
    "    jitter_values.append(jitter)\n",
    "\n",
    "plt.plot(keys, jitter_values)\n",
    "plt.scatter(keys, jitter_values)\n",
    "plt.xlabel(\"Number of simulations\")\n",
    "plt.ylabel(\"Loss-Jitter\")\n",
    "plt.grid()\n",
    "plt.gcf().set_size_inches(4, 1.2)\n",
    "\n",
    "plt.savefig(\"../plots/analysis_loss_nsimulations.svg\")\n",
    "plt.show()"
   ]
  },
  {
   "cell_type": "code",
   "execution_count": null,
   "metadata": {},
   "outputs": [],
   "source": []
  },
  {
   "cell_type": "code",
   "execution_count": null,
   "metadata": {},
   "outputs": [],
   "source": []
  }
 ],
 "metadata": {
  "kernelspec": {
   "display_name": "Python (jaxidp)",
   "language": "python",
   "name": "jaxidp"
  },
  "language_info": {
   "codemirror_mode": {
    "name": "ipython",
    "version": 3
   },
   "file_extension": ".py",
   "mimetype": "text/x-python",
   "name": "python",
   "nbconvert_exporter": "python",
   "pygments_lexer": "ipython3",
   "version": "3.11.9"
  }
 },
 "nbformat": 4,
 "nbformat_minor": 2
}
