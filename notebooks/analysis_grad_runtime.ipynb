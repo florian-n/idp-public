{
 "cells": [
  {
   "cell_type": "code",
   "execution_count": 1,
   "metadata": {},
   "outputs": [],
   "source": [
    "import sys\n",
    "import os\n",
    "\n",
    "sys.path.append(os.path.abspath(os.path.join(os.getcwd(), \"..\")))\n",
    "\n",
    "# os.environ['JAX_PLATFORM_NAME'] = \"cpu\"\n",
    "# os.environ['JAX_PLATFORMS'] = \"cpu\""
   ]
  },
  {
   "cell_type": "code",
   "execution_count": 2,
   "metadata": {},
   "outputs": [
    {
     "name": "stderr",
     "output_type": "stream",
     "text": [
      "/home/florian/anaconda3/envs/jaxidp/lib/python3.11/site-packages/google/colab/data_table.py:30: UserWarning: IPython.utils.traitlets has moved to a top-level traitlets package.\n",
      "  from IPython.utils import traitlets as _traitlets\n"
     ]
    }
   ],
   "source": [
    "import jax.numpy as jnp\n",
    "import jax\n",
    "\n",
    "import numpy as onp\n",
    "\n",
    "import matplotlib.pyplot as plt\n",
    "import random\n",
    "\n",
    "from simulation.simulate_full import run_entire_simulation\n",
    "\n",
    "from analyzers import defaultvalues as dv, database, loss as loss_anaylzer, gradients as grad_analyzer\n",
    "\n",
    "database.set_filename(\"../data/grad_analyzer/runtime_scan.npz\")"
   ]
  },
  {
   "cell_type": "code",
   "execution_count": 3,
   "metadata": {},
   "outputs": [
    {
     "name": "stdout",
     "output_type": "stream",
     "text": [
      "[ 6000 10000 14000 18000 22000]\n"
     ]
    }
   ],
   "source": [
    "N_GRADIENTS = 4\n",
    "runtime_values = onp.array([12, 20, 28, 36, 44])\n",
    "nsteps_intervals = runtime_values * 1000 // 2\n",
    "print(nsteps_intervals)"
   ]
  },
  {
   "cell_type": "code",
   "execution_count": 4,
   "metadata": {},
   "outputs": [],
   "source": [
    "def print_info(grads):\n",
    "    amean, astd = grad_analyzer.analyze_gradients_absolute(grads)\n",
    "    mmean, mstd = grad_analyzer.analyze_gradients_magnitudal(grads)\n",
    "\n",
    "    print(f\"Absolute mean: {amean}, Absolute std: {astd}\")\n",
    "    print(f\"Magnitudal mean: {mmean}, Magnitudal std: {mstd}\")"
   ]
  },
  {
   "cell_type": "code",
   "execution_count": 5,
   "metadata": {},
   "outputs": [
    {
     "name": "stdout",
     "output_type": "stream",
     "text": [
      "Skipping 6000, was already computed\n",
      "Skipping 10000, was already computed\n",
      "Skipping 14000, was already computed\n",
      "==== for 36ps ====\n",
      "-2.1608042764066084e+127\n",
      "-1.7476490290659488e+127\n",
      "-2.914285968125017e+124\n",
      "8.09813867019835e+122\n",
      "Absolute mean: 9.778621432068461e+126, Absolute std: 9.872313894022748e+126\n",
      "Magnitudal mean: 125.48749675629713, Magnitudal std: 1.8834805562821817\n",
      "==== for 44ps ====\n",
      "4.444220911965936e+157\n",
      "8.815746956963995e+154\n",
      "7.532722785399551e+152\n",
      "7.386824164600847e+152\n",
      "Absolute mean: 1.1132964635980998e+157, Absolute std: inf\n",
      "Magnitudal mean: 154.58461612520153, Magnitudal std: 1.9605132264016372\n"
     ]
    },
    {
     "name": "stderr",
     "output_type": "stream",
     "text": [
      "/home/florian/anaconda3/envs/jaxidp/lib/python3.11/site-packages/numpy/core/_methods.py:176: RuntimeWarning: overflow encountered in multiply\n",
      "  x = um.multiply(x, x, out=x)\n"
     ]
    }
   ],
   "source": [
    "for nsteps in nsteps_intervals:\n",
    "    existing_keys = database.get_existing_keys()\n",
    "    if nsteps in existing_keys:\n",
    "        print(f\"Skipping {nsteps}, was already computed\")\n",
    "        continue\n",
    "\n",
    "    grads = []\n",
    "    print(f\"==== for {nsteps//500}ps ====\")\n",
    "    for i in range(1, N_GRADIENTS + 1):\n",
    "        key = random.randrange(0, 20000)\n",
    "        def simulation_wrapper(LJ_SIGMA_OO: float) -> float:\n",
    "            prediction = run_entire_simulation(\n",
    "                LJ_SIGMA_OO, \n",
    "                nsteps, \n",
    "                dv.N_MOLECULES_PER_AXIS, \n",
    "                dv.N_SNAPSHOTS, \n",
    "                dv.N_Q, \n",
    "                key)\n",
    "            reference = run_entire_simulation(\n",
    "                dv.LJ_SIGMA_OO, \n",
    "                nsteps, \n",
    "                dv.N_MOLECULES_PER_AXIS, \n",
    "                dv.N_SNAPSHOTS, \n",
    "                dv.N_Q, \n",
    "                key)\n",
    "            return loss_anaylzer.L1_loss(prediction, reference)\n",
    "        grad_fn = jax.grad(simulation_wrapper)\n",
    "        grad = grad_fn(3.1)\n",
    "        print(grad)\n",
    "        grads.append(grad)\n",
    "\n",
    "    grads = onp.array(grads)\n",
    "    print_info(grads)\n",
    "    database.save_intermediate_result(nsteps, grads)"
   ]
  },
  {
   "cell_type": "code",
   "execution_count": 6,
   "metadata": {},
   "outputs": [
    {
     "name": "stdout",
     "output_type": "stream",
     "text": [
      "==== for 12.0ps ====\n",
      "Absolute mean: 9.554242244927689e+44, Absolute std: 1.2404851623432239e+45\n",
      "Magnitudal mean: 44.6107374872459, Magnitudal std: 0.5559015695655483\n",
      "==== for 20.0ps ====\n",
      "Absolute mean: 7.368123095909171e+71, Absolute std: 1.0443981999086219e+72\n",
      "Magnitudal mean: 70.95524023655834, Magnitudal std: 1.0888363453547292\n",
      "==== for 28.0ps ====\n",
      "Absolute mean: 9.550657164808937e+96, Absolute std: 1.6114563713485141e+97\n",
      "Magnitudal mean: 94.79984378843099, Magnitudal std: 2.016615849115076\n",
      "==== for 36.0ps ====\n",
      "Absolute mean: 9.778621432068461e+126, Absolute std: 9.872313894022748e+126\n",
      "Magnitudal mean: 125.48749675629713, Magnitudal std: 1.8834805562821817\n",
      "==== for 44.0ps ====\n",
      "Absolute mean: 1.1132964635980998e+157, Absolute std: inf\n",
      "Magnitudal mean: 154.58461612520153, Magnitudal std: 1.9605132264016372\n"
     ]
    }
   ],
   "source": [
    "keys, values = database.load_result()\n",
    "for key, grads in zip(keys, values):\n",
    "    print(f\"==== for {key//500}ps ====\")\n",
    "    print_info(grads)"
   ]
  },
  {
   "cell_type": "code",
   "execution_count": null,
   "metadata": {},
   "outputs": [],
   "source": []
  }
 ],
 "metadata": {
  "kernelspec": {
   "display_name": "Python (jaxidp)",
   "language": "python",
   "name": "jaxidp"
  },
  "language_info": {
   "codemirror_mode": {
    "name": "ipython",
    "version": 3
   },
   "file_extension": ".py",
   "mimetype": "text/x-python",
   "name": "python",
   "nbconvert_exporter": "python",
   "pygments_lexer": "ipython3",
   "version": "3.11.9"
  }
 },
 "nbformat": 4,
 "nbformat_minor": 2
}
