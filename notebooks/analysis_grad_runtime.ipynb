{
 "cells": [
  {
   "cell_type": "code",
   "execution_count": 1,
   "metadata": {},
   "outputs": [],
   "source": [
    "import sys\n",
    "import os\n",
    "\n",
    "sys.path.append(os.path.abspath(os.path.join(os.getcwd(), \"..\")))\n",
    "\n",
    "# os.environ['JAX_PLATFORM_NAME'] = \"cpu\"\n",
    "# os.environ['JAX_PLATFORMS'] = \"cpu\""
   ]
  },
  {
   "cell_type": "code",
   "execution_count": 2,
   "metadata": {},
   "outputs": [
    {
     "name": "stderr",
     "output_type": "stream",
     "text": [
      "/home/florian/anaconda3/envs/jaxidp/lib/python3.11/site-packages/google/colab/data_table.py:30: UserWarning: IPython.utils.traitlets has moved to a top-level traitlets package.\n",
      "  from IPython.utils import traitlets as _traitlets\n"
     ]
    }
   ],
   "source": [
    "import jax.numpy as jnp\n",
    "import jax\n",
    "\n",
    "import numpy as onp\n",
    "\n",
    "import matplotlib.pyplot as plt\n",
    "import random\n",
    "\n",
    "from simulation.simulate_full import run_entire_simulation\n",
    "\n",
    "from analyzers import defaultvalues as dv, database, loss as loss_anaylzer, gradients as grad_analyzer\n",
    "\n",
    "database.set_filename(\"../data/grad_analyzer/nmolecules_scan.npz\")"
   ]
  },
  {
   "cell_type": "code",
   "execution_count": 3,
   "metadata": {},
   "outputs": [
    {
     "name": "stdout",
     "output_type": "stream",
     "text": [
      "[ 6000 10000 14000 18000 22000]\n"
     ]
    }
   ],
   "source": [
    "N_GRADIENTS = 3\n",
    "runtime_values = onp.array([12, 20, 28, 36, 44])\n",
    "nsteps_intervals = runtime_values * 1000 // 2\n",
    "print(nsteps_intervals)"
   ]
  },
  {
   "cell_type": "code",
   "execution_count": 4,
   "metadata": {},
   "outputs": [],
   "source": [
    "def print_info(grads):\n",
    "    amean, astd = grad_analyzer.analyze_gradients_absolute(grads)\n",
    "    mmean, mstd = grad_analyzer.analyze_gradients_magnitudal(grads)\n",
    "\n",
    "    print(f\"Absolute mean: {amean}, Absolute std: {astd}\")\n",
    "    print(f\"Magnitudal mean: {mmean}, Magnitudal std: {mstd}\")"
   ]
  },
  {
   "cell_type": "code",
   "execution_count": null,
   "metadata": {},
   "outputs": [
    {
     "name": "stdout",
     "output_type": "stream",
     "text": [
      "==== for 12ps ====\n",
      "-4.696104398344362e+42\n",
      "-2.1754439892558835e+42\n",
      "-1.8679809919203282e+43\n",
      "Absolute mean: 8.517119435601177e+42, Absolute std: 7.259414146408287e+42\n",
      "Magnitudal mean: 42.76021936726795, Magnitudal std: 0.3863321708163014\n",
      "==== for 20ps ====\n"
     ]
    }
   ],
   "source": [
    "for nsteps in nsteps_intervals:\n",
    "    existing_keys = database.get_existing_keys()\n",
    "    if nsteps in existing_keys:\n",
    "        print(f\"Skipping {nsteps}, was already computed\")\n",
    "        continue\n",
    "\n",
    "    grads = []\n",
    "    print(f\"==== for {nsteps//500}ps ====\")\n",
    "    for i in range(1, N_GRADIENTS + 1):\n",
    "        key = random.randrange(0, 20000)\n",
    "        def simulation_wrapper(LJ_SIGMA_OO: float) -> float:\n",
    "            prediction = run_entire_simulation(\n",
    "                LJ_SIGMA_OO, \n",
    "                nsteps, \n",
    "                dv.N_MOLECULES_PER_AXIS, \n",
    "                dv.N_SNAPSHOTS, \n",
    "                dv.N_Q, \n",
    "                key)\n",
    "            reference = run_entire_simulation(\n",
    "                dv.LJ_SIGMA_OO, \n",
    "                nsteps, \n",
    "                dv.N_MOLECULES_PER_AXIS, \n",
    "                dv.N_SNAPSHOTS, \n",
    "                dv.N_Q, \n",
    "                key)\n",
    "            return loss_anaylzer.L1_loss(prediction, reference)\n",
    "        grad_fn = jax.grad(simulation_wrapper)\n",
    "        grad = grad_fn(3.1)\n",
    "        print(grad)\n",
    "        grads.append(grad)\n",
    "\n",
    "    print_info(grads)\n",
    "    database.save_intermediate_result(nsteps, grads)"
   ]
  },
  {
   "cell_type": "code",
   "execution_count": null,
   "metadata": {},
   "outputs": [],
   "source": [
    "keys, values = database.load_result()\n",
    "for key, grads in zip(keys, values):\n",
    "    print(f\"==== for {key//500}ps ====\")\n",
    "    print_info(grads)"
   ]
  },
  {
   "cell_type": "code",
   "execution_count": null,
   "metadata": {},
   "outputs": [],
   "source": []
  }
 ],
 "metadata": {
  "kernelspec": {
   "display_name": "Python (jaxidp)",
   "language": "python",
   "name": "jaxidp"
  },
  "language_info": {
   "codemirror_mode": {
    "name": "ipython",
    "version": 3
   },
   "file_extension": ".py",
   "mimetype": "text/x-python",
   "name": "python",
   "nbconvert_exporter": "python",
   "pygments_lexer": "ipython3",
   "version": "3.11.9"
  }
 },
 "nbformat": 4,
 "nbformat_minor": 2
}
