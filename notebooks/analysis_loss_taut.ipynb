{
 "cells": [
  {
   "cell_type": "markdown",
   "metadata": {
    "vscode": {
     "languageId": "plaintext"
    }
   },
   "source": [
    "# Analyze the loss based on the simulations runtime"
   ]
  },
  {
   "cell_type": "code",
   "execution_count": 1,
   "metadata": {},
   "outputs": [],
   "source": [
    "import sys\n",
    "import os\n",
    "\n",
    "sys.path.append(os.path.abspath(os.path.join(os.getcwd(), \"..\")))\n",
    "\n",
    "#os.environ['JAX_PLATFORM_NAME'] = \"cpu\"\n",
    "#os.environ['JAX_PLATFORMS'] = \"cpu\""
   ]
  },
  {
   "cell_type": "code",
   "execution_count": 2,
   "metadata": {},
   "outputs": [
    {
     "name": "stderr",
     "output_type": "stream",
     "text": [
      "/home/florian/anaconda3/envs/jaxidp/lib/python3.11/site-packages/google/colab/data_table.py:30: UserWarning: IPython.utils.traitlets has moved to a top-level traitlets package.\n",
      "  from IPython.utils import traitlets as _traitlets\n"
     ]
    }
   ],
   "source": [
    "import jax.numpy as jnp\n",
    "import jax\n",
    "\n",
    "import numpy as onp\n",
    "\n",
    "import matplotlib.pyplot as plt\n",
    "\n",
    "from simulation.simulate_full import run_entire_simulation\n",
    "\n",
    "from analyzers import defaultvalues as dv, database, loss as loss_anaylzer"
   ]
  },
  {
   "cell_type": "code",
   "execution_count": 3,
   "metadata": {},
   "outputs": [],
   "source": [
    "scan_space = jnp.linspace(3.0000, 3.0001, 8)\n",
    "taut_values = onp.array(onp.linspace(30, 300, 30), dtype=int)"
   ]
  },
  {
   "cell_type": "code",
   "execution_count": 4,
   "metadata": {},
   "outputs": [],
   "source": [
    "def get_sim_result(lj_sigma_oo, tau_t):\n",
    "    return run_entire_simulation(lj_sigma_oo, dv.N_STEPS, dv.N_MOLECULES_PER_AXIS, dv.N_SNAPSHOTS, dv.N_Q, 1, tau_t)"
   ]
  },
  {
   "cell_type": "code",
   "execution_count": 5,
   "metadata": {},
   "outputs": [],
   "source": [
    "database.set_filename(\"../data/loss_analyzer/taut_scan.npz\")"
   ]
  },
  {
   "cell_type": "markdown",
   "metadata": {},
   "source": [
    "Calculate losses over the scan space for each runtime from the array"
   ]
  },
  {
   "cell_type": "code",
   "execution_count": null,
   "metadata": {},
   "outputs": [
    {
     "name": "stdout",
     "output_type": "stream",
     "text": [
      "=== Running for tau_t=30 ===\n",
      "Jitter: 0.00019776009416348097\n",
      "=== Running for tau_t=39 ===\n",
      "Jitter: 0.00020229797621244144\n",
      "=== Running for tau_t=48 ===\n",
      "Jitter: 0.00018232557270889954\n",
      "=== Running for tau_t=57 ===\n",
      "Jitter: 0.00016832346606230518\n",
      "=== Running for tau_t=67 ===\n",
      "Jitter: 0.00034323681815898925\n",
      "=== Running for tau_t=76 ===\n",
      "Jitter: 0.00024181189419006968\n",
      "=== Running for tau_t=85 ===\n",
      "Jitter: 0.00022523528125335717\n",
      "=== Running for tau_t=95 ===\n",
      "Jitter: 0.00033141537355168036\n",
      "=== Running for tau_t=104 ===\n",
      "Jitter: 0.0002803442150070329\n",
      "=== Running for tau_t=113 ===\n",
      "Jitter: 0.0001947019195126004\n",
      "=== Running for tau_t=123 ===\n",
      "Jitter: 0.000152794985680369\n",
      "=== Running for tau_t=132 ===\n",
      "Jitter: 0.00025855387893092735\n",
      "=== Running for tau_t=141 ===\n"
     ]
    }
   ],
   "source": [
    "all_losses = []\n",
    "\n",
    "for taut in taut_values:\n",
    "    existing_keys = database.get_existing_keys()\n",
    "    if taut in existing_keys:\n",
    "        print(f\"Skipping {taut}, was already computed\")\n",
    "        continue\n",
    "\n",
    "    print(f\"=== Running for tau_t={taut} ===\")\n",
    "    reference = get_sim_result(dv.LJ_SIGMA_OO, taut)\n",
    "    losses = jax.vmap(lambda lj_sigma_oo: loss_anaylzer.L1_loss(get_sim_result(lj_sigma_oo, taut), reference))(scan_space)\n",
    "            \n",
    "    jitter = loss_anaylzer.get_loss_jitter(losses)\n",
    "    print(f\"Jitter: {jitter}\")\n",
    "\n",
    "    database.save_intermediate_result(taut, losses)"
   ]
  },
  {
   "cell_type": "markdown",
   "metadata": {},
   "source": [
    "# Plot\n",
    "Skip previous if data is already available"
   ]
  },
  {
   "cell_type": "code",
   "execution_count": null,
   "metadata": {},
   "outputs": [],
   "source": [
    "keys, values = database.load_result()\n",
    "jitter_values = [loss_anaylzer.get_loss_jitter(v) for v in values]\n",
    "\n",
    "plt.plot(keys, jitter_values)\n",
    "plt.scatter(keys, jitter_values)\n",
    "plt.xlabel(\"Tau_t\")\n",
    "plt.ylabel(\"Loss-Jitter\")\n",
    "\n",
    "plt.grid()\n",
    "plt.gcf().set_size_inches(5, 5)\n",
    "plt.savefig(\"../plots/analysis_loss_nmolecules.svg\")\n",
    "plt.show()"
   ]
  },
  {
   "cell_type": "code",
   "execution_count": null,
   "metadata": {},
   "outputs": [],
   "source": []
  }
 ],
 "metadata": {
  "kernelspec": {
   "display_name": "Python (jaxidp)",
   "language": "python",
   "name": "jaxidp"
  },
  "language_info": {
   "codemirror_mode": {
    "name": "ipython",
    "version": 3
   },
   "file_extension": ".py",
   "mimetype": "text/x-python",
   "name": "python",
   "nbconvert_exporter": "python",
   "pygments_lexer": "ipython3",
   "version": "3.11.9"
  }
 },
 "nbformat": 4,
 "nbformat_minor": 2
}
