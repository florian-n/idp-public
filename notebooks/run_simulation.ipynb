{
 "cells": [
  {
   "cell_type": "markdown",
   "metadata": {},
   "source": [
    "# Run a simulation\n",
    "\n",
    "Just run the entire simulation. This is \n",
    "\n",
    "1. A demo; in case one tries to replicate a simple run of the simulation\n",
    "2. A guide to show what steps are needed to do so and why\n",
    "3. A way to generate simulation data, if needed\n",
    "\n",
    "This is only the simulation run, without any diffraction pattern calculation.\n",
    "\n",
    "**Note**: This simulation provides both wrapped and unwrapped trajectories."
   ]
  },
  {
   "cell_type": "markdown",
   "metadata": {},
   "source": [
    "### Setup the environment\n",
    "\n",
    "1. Make sure you select the correct kernel, probably one thats based on the envirionment created in the [README](../README.md).\n",
    "2. Execute the cell below. It enables us to include python modules from the parent directory, which will be necessary later."
   ]
  },
  {
   "cell_type": "code",
   "execution_count": 1,
   "metadata": {},
   "outputs": [],
   "source": [
    "import sys\n",
    "import os\n",
    "\n",
    "sys.path.append(os.path.abspath(os.path.join(os.getcwd(), \"..\")))"
   ]
  },
  {
   "cell_type": "markdown",
   "metadata": {},
   "source": [
    "This cell is optional. I recommend executing JAX-MD simulations on the GPU for performance reasons. If, for whatever reason, CPU execution is preferred, un-comment the following two lines:"
   ]
  },
  {
   "cell_type": "code",
   "execution_count": 2,
   "metadata": {},
   "outputs": [],
   "source": [
    "# os.environ['JAX_PLATFORM_NAME'] = \"cpu\"\n",
    "# os.environ['JAX_PLATFORMS'] = \"cpu\""
   ]
  },
  {
   "cell_type": "markdown",
   "metadata": {},
   "source": [
    "Lastly, a number of imports has to be made:"
   ]
  },
  {
   "cell_type": "code",
   "execution_count": null,
   "metadata": {},
   "outputs": [],
   "source": [
    "import jax.numpy as jnp\n",
    "import jax\n",
    "\n",
    "import numpy as onp\n",
    "\n",
    "import matplotlib.pyplot as plt\n",
    "import random\n",
    "\n",
    "from simulation.simulate_unwrapped import run_simulation\n",
    "\n",
    "import helpers.bridge as bridge\n",
    "import helpers.converters"
   ]
  },
  {
   "cell_type": "markdown",
   "metadata": {},
   "source": [
    "### Define simulation parameters\n",
    "\n",
    "Note that 343 molecules over 100.000 iterations is quite large for JAX-MD and definitely requires a dedicated GPU with >= 8 GB of graphics memory."
   ]
  },
  {
   "cell_type": "code",
   "execution_count": 4,
   "metadata": {},
   "outputs": [],
   "source": [
    "LJ_SIGMA_OO = 3.188\n",
    "N_RUNTIME = 150 #picoseconds\n",
    "N_MOLECULES_PER_AXIS = 7\n",
    "N_SNAPSHOTS = 500\n",
    "\n",
    "N_STEPS = N_RUNTIME * 1000 // 2 # 2 fs per step\n",
    "N_MOLECULES = N_MOLECULES_PER_AXIS ** 3\n",
    "BOX_SIZE = helpers.converters.get_box_length_from_density(N_MOLECULES * 3, 0.1)\n",
    "initial_key = random.randint(0, 20000)"
   ]
  },
  {
   "cell_type": "code",
   "execution_count": null,
   "metadata": {},
   "outputs": [],
   "source": [
    "print(\"Running simulation with {} molecules for {}ps ({} steps) while taking {} snapshots.\".format(N_MOLECULES_PER_AXIS**3, N_RUNTIME, N_STEPS, N_SNAPSHOTS))"
   ]
  },
  {
   "cell_type": "markdown",
   "metadata": {},
   "source": [
    "### Run the simulation\n",
    "\n",
    "Depending on the system, this might take a while. Due to the nature of JAX-MD, there is no progress callback available."
   ]
  },
  {
   "cell_type": "code",
   "execution_count": null,
   "metadata": {},
   "outputs": [],
   "source": [
    "snapshots, snapshots_unwrapped, dt_per_snapshot = run_simulation(\n",
    "    LJ_SIGMA_OO=LJ_SIGMA_OO,\n",
    "    N_STEPS=N_STEPS,\n",
    "    N_MOLECULES_PER_AXIS=N_MOLECULES_PER_AXIS,\n",
    "    N_SLICES=N_SNAPSHOTS,\n",
    "    init_key=initial_key\n",
    ")"
   ]
  },
  {
   "cell_type": "markdown",
   "metadata": {},
   "source": [
    "### Store the simulation results\n",
    "\n",
    "The MDABridge builds a bridge between this simulation and the `MDAnalysis` python module. `MDAnalysis` can be used to perform various tasks, such as:\n",
    "\n",
    "- RDFs, MSD, ...\n",
    "- Diffraction patterns\n",
    "- Store data, e.g. as `.dcd` or `.pdb` files\n",
    "\n",
    "Aditionally, the bridge comes with the functionality to store and restore it self from a single file (`MDABridge.dump` and `MDABridge.from_file`)."
   ]
  },
  {
   "cell_type": "code",
   "execution_count": null,
   "metadata": {},
   "outputs": [],
   "source": [
    "mdabridge = bridge.MDABridge(\n",
    "    trajectory=snapshots,\n",
    "    dt_per_frame=dt_per_snapshot,\n",
    "    box_size=BOX_SIZE,\n",
    "    masses=None\n",
    "    )\n",
    "\n",
    "mdabridge.dump(\"../data/demo_simulation/dump.npz\")\n",
    "mdabridge.write_lammps_dcd(\"../data/demo_simulation/trajectory.dcd\")\n",
    "mdabridge.write_lammps_pdb(\"../data/demo_simulation/trajectory.pdb\", all_frames=True)\n",
    "mdabridge.write_lammps_pdb(\"../data/demo_simulation/trajectory.pdb\", all_frames=False) # only first frame (required for Sassena)\n",
    "\n",
    "onp.savez(\"../data/demo_simulation/unwrapped_trajectory2.npz\", trajectory=snapshots_unwrapped, dt_per_frame=dt_per_snapshot)\n",
    "\n",
    "parameter_string = f\"\"\"=== Simulation information ===\n",
    "LJ_SIGMA_OO: {LJ_SIGMA_OO}\n",
    "N_RUNTIME: {N_RUNTIME}\n",
    "N_MOLECULES_PER_AXIS: {N_MOLECULES_PER_AXIS}\n",
    "N_SNAPSHOTS: {N_SNAPSHOTS}\n",
    "BOX_SIZE: {BOX_SIZE}\n",
    "initial_key: {initial_key}\n",
    "\"\"\"\n",
    "\n",
    "with open(\"../data/demo_simulation/info.txt\", \"w\") as f:\n",
    "    f.write(parameter_string)"
   ]
  },
  {
   "cell_type": "code",
   "execution_count": null,
   "metadata": {},
   "outputs": [],
   "source": []
  }
 ],
 "metadata": {
  "kernelspec": {
   "display_name": "Python (jaxidp)",
   "language": "python",
   "name": "jaxidp"
  },
  "language_info": {
   "codemirror_mode": {
    "name": "ipython",
    "version": 3
   },
   "file_extension": ".py",
   "mimetype": "text/x-python",
   "name": "python",
   "nbconvert_exporter": "python",
   "pygments_lexer": "ipython3",
   "version": "3.11.9"
  }
 },
 "nbformat": 4,
 "nbformat_minor": 2
}
