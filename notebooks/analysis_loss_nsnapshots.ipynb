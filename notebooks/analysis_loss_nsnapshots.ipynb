{
 "cells": [
  {
   "cell_type": "markdown",
   "metadata": {
    "vscode": {
     "languageId": "plaintext"
    }
   },
   "source": [
    "# Analyze the loss based on the simulations runtime"
   ]
  },
  {
   "cell_type": "code",
   "execution_count": 1,
   "metadata": {},
   "outputs": [],
   "source": [
    "import sys\n",
    "import os\n",
    "\n",
    "sys.path.append(os.path.abspath(os.path.join(os.getcwd(), \"..\")))\n",
    "\n",
    "os.environ['JAX_PLATFORM_NAME'] = \"cpu\"\n",
    "os.environ['JAX_PLATFORMS'] = \"cpu\""
   ]
  },
  {
   "cell_type": "code",
   "execution_count": 2,
   "metadata": {},
   "outputs": [
    {
     "name": "stderr",
     "output_type": "stream",
     "text": [
      "/home/florian/anaconda3/envs/jaxidp/lib/python3.11/site-packages/google/colab/data_table.py:30: UserWarning: IPython.utils.traitlets has moved to a top-level traitlets package.\n",
      "  from IPython.utils import traitlets as _traitlets\n"
     ]
    }
   ],
   "source": [
    "import jax.numpy as jnp\n",
    "import jax\n",
    "\n",
    "import numpy as onp\n",
    "\n",
    "import matplotlib.pyplot as plt\n",
    "\n",
    "from simulation.simulate_full import run_entire_simulation\n",
    "\n",
    "from analyzers import defaultvalues as dv, database, loss as loss_anaylzer"
   ]
  },
  {
   "cell_type": "code",
   "execution_count": 3,
   "metadata": {},
   "outputs": [],
   "source": [
    "scan_space = jnp.linspace(3.0000, 3.0001, 8)\n",
    "nsnapshots_values = onp.array(onp.linspace(30, 300, 30), dtype=int)"
   ]
  },
  {
   "cell_type": "code",
   "execution_count": 4,
   "metadata": {},
   "outputs": [],
   "source": [
    "def get_sim_result(lj_sigma_oo, n_snapshots):\n",
    "    return run_entire_simulation(lj_sigma_oo, dv.N_STEPS, dv.N_MOLECULES_PER_AXIS, n_snapshots, dv.N_Q, 1)"
   ]
  },
  {
   "cell_type": "code",
   "execution_count": 3,
   "metadata": {},
   "outputs": [],
   "source": [
    "database.set_filename(\"../data/loss_analyzer/nsnapshots_scan.npz\")"
   ]
  },
  {
   "cell_type": "markdown",
   "metadata": {},
   "source": [
    "Calculate losses over the scan space for each runtime from the array"
   ]
  },
  {
   "cell_type": "code",
   "execution_count": 6,
   "metadata": {},
   "outputs": [
    {
     "name": "stdout",
     "output_type": "stream",
     "text": [
      "Skipping 30, was already computed\n",
      "Skipping 39, was already computed\n",
      "Skipping 48, was already computed\n",
      "Skipping 57, was already computed\n",
      "Skipping 67, was already computed\n",
      "Skipping 76, was already computed\n",
      "Skipping 85, was already computed\n",
      "Skipping 95, was already computed\n",
      "Skipping 104, was already computed\n",
      "Skipping 113, was already computed\n",
      "Skipping 123, was already computed\n",
      "Skipping 132, was already computed\n",
      "Skipping 141, was already computed\n",
      "Skipping 151, was already computed\n",
      "Skipping 160, was already computed\n",
      "Skipping 169, was already computed\n",
      "Skipping 178, was already computed\n",
      "Skipping 188, was already computed\n",
      "Skipping 197, was already computed\n",
      "=== Running for 206 snapshots ===\n",
      "Jitter: 0.0003143756367939277\n",
      "=== Running for 216 snapshots ===\n",
      "Jitter: 0.0003179693109524856\n",
      "=== Running for 225 snapshots ===\n",
      "Jitter: 0.0003161374729703895\n",
      "=== Running for 234 snapshots ===\n",
      "Jitter: 0.00031684122265213474\n",
      "=== Running for 244 snapshots ===\n",
      "Jitter: 0.0003151016617625709\n",
      "=== Running for 253 snapshots ===\n",
      "Jitter: 0.000311803011954089\n",
      "=== Running for 262 snapshots ===\n",
      "Jitter: 0.00031516277071014465\n",
      "=== Running for 272 snapshots ===\n",
      "Jitter: 0.00031736168811663344\n",
      "=== Running for 281 snapshots ===\n",
      "Jitter: 0.0003143540560818078\n",
      "=== Running for 290 snapshots ===\n",
      "Jitter: 0.00031526780926471827\n",
      "=== Running for 300 snapshots ===\n",
      "Jitter: 0.00031457956795243004\n"
     ]
    }
   ],
   "source": [
    "all_losses = []\n",
    "\n",
    "for n_snapshots in nsnapshots_values:\n",
    "    existing_keys = database.get_existing_keys()\n",
    "    if n_snapshots in existing_keys:\n",
    "        print(f\"Skipping {n_snapshots}, was already computed\")\n",
    "        continue\n",
    "\n",
    "    print(f\"=== Running for {n_snapshots} snapshots ===\")\n",
    "    reference = get_sim_result(dv.LJ_SIGMA_OO, n_snapshots)\n",
    "    losses = jax.vmap(lambda lj_sigma_oo: loss_anaylzer.L1_loss(get_sim_result(lj_sigma_oo, n_snapshots), reference))(scan_space)\n",
    "            \n",
    "    jitter = loss_anaylzer.get_loss_jitter(losses)\n",
    "    print(f\"Jitter: {jitter}\")\n",
    "\n",
    "    database.save_intermediate_result(n_snapshots, losses)"
   ]
  },
  {
   "cell_type": "markdown",
   "metadata": {},
   "source": [
    "# Plot\n",
    "Skip previous if data is already available"
   ]
  },
  {
   "cell_type": "code",
   "execution_count": 5,
   "metadata": {},
   "outputs": [
    {
     "data": {
      "image/png": "[encoded data removed]",
      "text/plain": [
       "<Figure size 400x120 with 1 Axes>"
      ]
     },
     "metadata": {},
     "output_type": "display_data"
    }
   ],
   "source": [
    "keys, values = database.load_result()\n",
    "jitter_values = [loss_anaylzer.get_loss_jitter(v) for v in values]\n",
    "\n",
    "plt.plot(keys, jitter_values)\n",
    "plt.scatter(keys, jitter_values)\n",
    "plt.xlabel(\"Number of snapshots\")\n",
    "plt.ylabel(\"Loss-Jitter\")\n",
    "\n",
    "plt.grid()\n",
    "plt.gcf().set_size_inches(4, 1.2)\n",
    "plt.savefig(\"../plots/analysis_loss_nsnapshots.svg\")\n",
    "plt.show()"
   ]
  },
  {
   "cell_type": "code",
   "execution_count": null,
   "metadata": {},
   "outputs": [],
   "source": []
  }
 ],
 "metadata": {
  "kernelspec": {
   "display_name": "Python (jaxidp)",
   "language": "python",
   "name": "jaxidp"
  },
  "language_info": {
   "codemirror_mode": {
    "name": "ipython",
    "version": 3
   },
   "file_extension": ".py",
   "mimetype": "text/x-python",
   "name": "python",
   "nbconvert_exporter": "python",
   "pygments_lexer": "ipython3",
   "version": "3.11.9"
  }
 },
 "nbformat": 4,
 "nbformat_minor": 2
}
