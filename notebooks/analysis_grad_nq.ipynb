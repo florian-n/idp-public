{
 "cells": [
  {
   "cell_type": "code",
   "execution_count": 1,
   "metadata": {},
   "outputs": [],
   "source": [
    "import sys\n",
    "import os\n",
    "\n",
    "sys.path.append(os.path.abspath(os.path.join(os.getcwd(), \"..\")))\n",
    "\n",
    "# os.environ['JAX_PLATFORM_NAME'] = \"cpu\"\n",
    "# os.environ['JAX_PLATFORMS'] = \"cpu\""
   ]
  },
  {
   "cell_type": "code",
   "execution_count": 2,
   "metadata": {},
   "outputs": [
    {
     "name": "stderr",
     "output_type": "stream",
     "text": [
      "/home/florian/anaconda3/envs/jaxidp/lib/python3.11/site-packages/google/colab/data_table.py:30: UserWarning: IPython.utils.traitlets has moved to a top-level traitlets package.\n",
      "  from IPython.utils import traitlets as _traitlets\n"
     ]
    }
   ],
   "source": [
    "import jax.numpy as jnp\n",
    "import jax\n",
    "\n",
    "import numpy as onp\n",
    "\n",
    "import matplotlib.pyplot as plt\n",
    "import random\n",
    "\n",
    "from simulation.simulate_full import run_entire_simulation\n",
    "\n",
    "from analyzers import defaultvalues as dv, database, loss as loss_anaylzer, gradients as grad_analyzer\n",
    "\n",
    "database.set_filename(\"../data/grad_analyzer/nq_scan.npz\")"
   ]
  },
  {
   "cell_type": "code",
   "execution_count": 3,
   "metadata": {},
   "outputs": [
    {
     "name": "stdout",
     "output_type": "stream",
     "text": [
      "[ 50 100 150 200 250]\n"
     ]
    }
   ],
   "source": [
    "N_GRADIENTS = 4\n",
    "nq_values = onp.array([50, 100, 150, 200, 250])\n",
    "print(nq_values)"
   ]
  },
  {
   "cell_type": "code",
   "execution_count": 4,
   "metadata": {},
   "outputs": [],
   "source": [
    "def print_info(grads):\n",
    "    amean, astd = grad_analyzer.analyze_gradients_absolute(grads)\n",
    "    mmean, mstd = grad_analyzer.analyze_gradients_magnitudal(grads)\n",
    "\n",
    "    print(f\"Absolute mean: {amean}, Absolute std: {astd}\")\n",
    "    print(f\"Magnitudal mean: {mmean}, Magnitudal std: {mstd}\")"
   ]
  },
  {
   "cell_type": "code",
   "execution_count": 5,
   "metadata": {},
   "outputs": [
    {
     "name": "stdout",
     "output_type": "stream",
     "text": [
      "Skipping 50, was already computed\n",
      "==== for 100 Q-values ====\n",
      "1.2226200114762503e+50\n",
      "-7.13525851591908e+48\n",
      "7.904072015923501e+49\n",
      "2.3994094390734792e+51\n",
      "Absolute mean: 6.519618547240646e+50, Absolute std: 1.0097270621974956e+51\n",
      "Magnitudal mean: 50.054664116007885, Magnitudal std: 0.8979781351219543\n",
      "==== for 150 Q-values ====\n",
      "-3.2694871359513996e+46\n",
      "-1.5104427011508784e+48\n",
      "1.0686528830868277e+49\n",
      "1.635580471535717e+49\n",
      "Absolute mean: 7.14636777968396e+48, Absolute std: 6.702881146901153e+48\n",
      "Magnitudal mean: 48.23402311653473, Magnitudal std: 1.0666871866167937\n",
      "==== for 200 Q-values ====\n",
      "1.8320048865880734e+47\n",
      "7.967663246639285e+46\n",
      "3.485870125036165e+51\n",
      "-1.4512791255254742e+48\n",
      "Absolute mean: 8.71896070320704e+50, Absolute std: 1.5091787207765348e+51\n",
      "Magnitudal mean: 48.467079937262575, Magnitudal std: 1.833836698370992\n",
      "==== for 250 Q-values ====\n",
      "-1.2324535541075086e+51\n",
      "5.413137009916332e+52\n",
      "-1.7246436812227224e+49\n",
      "-4.761389088832081e+47\n",
      "Absolute mean: 1.3845386557247985e+52, Absolute std: 2.3264487704242612e+52\n",
      "Magnitudal mean: 50.18466315875472, Magnitudal std: 1.9039873136271448\n"
     ]
    }
   ],
   "source": [
    "for nq in nq_values:\n",
    "    existing_keys = database.get_existing_keys()\n",
    "    if nq in existing_keys:\n",
    "        print(f\"Skipping {nq}, was already computed\")\n",
    "        continue\n",
    "\n",
    "    grads = []\n",
    "    print(f\"==== for {nq} Q-values ====\")\n",
    "    for i in range(1, N_GRADIENTS + 1):\n",
    "        key = random.randrange(0, 20000)\n",
    "        def simulation_wrapper(LJ_SIGMA_OO: float) -> float:\n",
    "            prediction = run_entire_simulation(\n",
    "                LJ_SIGMA_OO, \n",
    "                dv.N_STEPS, \n",
    "                dv.N_MOLECULES_PER_AXIS, \n",
    "                dv.N_SNAPSHOTS, \n",
    "                nq, \n",
    "                key)\n",
    "            reference = run_entire_simulation(\n",
    "                dv.LJ_SIGMA_OO, \n",
    "                dv.N_STEPS, \n",
    "                dv.N_MOLECULES_PER_AXIS, \n",
    "                dv.N_SNAPSHOTS, \n",
    "                nq, \n",
    "                key)\n",
    "            return loss_anaylzer.L1_loss(prediction, reference)\n",
    "        grad_fn = jax.grad(simulation_wrapper)\n",
    "        grad = grad_fn(3.1)\n",
    "        print(grad)\n",
    "        grads.append(grad)\n",
    "    \n",
    "    grads = onp.array(grads)\n",
    "    print_info(grads)\n",
    "    database.save_intermediate_result(nq, grads)"
   ]
  },
  {
   "cell_type": "code",
   "execution_count": 6,
   "metadata": {},
   "outputs": [
    {
     "name": "stdout",
     "output_type": "stream",
     "text": [
      "==== for 250 Q-values ====\n",
      "Absolute mean: 7.354254607638597e+49, Absolute std: 9.273142762666753e+49\n",
      "Magnitudal mean: 48.50409943979843, Magnitudal std: 1.6404806816391635\n",
      "==== for 250 Q-values ====\n",
      "Absolute mean: 6.519618547240646e+50, Absolute std: 1.0097270621974956e+51\n",
      "Magnitudal mean: 50.054664116007885, Magnitudal std: 0.8979781351219543\n",
      "==== for 250 Q-values ====\n",
      "Absolute mean: 7.14636777968396e+48, Absolute std: 6.702881146901153e+48\n",
      "Magnitudal mean: 48.23402311653473, Magnitudal std: 1.0666871866167937\n",
      "==== for 250 Q-values ====\n",
      "Absolute mean: 8.71896070320704e+50, Absolute std: 1.5091787207765348e+51\n",
      "Magnitudal mean: 48.467079937262575, Magnitudal std: 1.833836698370992\n",
      "==== for 250 Q-values ====\n",
      "Absolute mean: 1.3845386557247985e+52, Absolute std: 2.3264487704242612e+52\n",
      "Magnitudal mean: 50.18466315875472, Magnitudal std: 1.9039873136271448\n"
     ]
    }
   ],
   "source": [
    "keys, values = database.load_result()\n",
    "for key, grads in zip(keys, values):\n",
    "    print(f\"==== for {nq} Q-values ====\")\n",
    "    print_info(grads)"
   ]
  },
  {
   "cell_type": "code",
   "execution_count": null,
   "metadata": {},
   "outputs": [],
   "source": []
  }
 ],
 "metadata": {
  "kernelspec": {
   "display_name": "jaxidp",
   "language": "python",
   "name": "python3"
  },
  "language_info": {
   "codemirror_mode": {
    "name": "ipython",
    "version": 3
   },
   "file_extension": ".py",
   "mimetype": "text/x-python",
   "name": "python",
   "nbconvert_exporter": "python",
   "pygments_lexer": "ipython3",
   "version": "3.11.9"
  }
 },
 "nbformat": 4,
 "nbformat_minor": 2
}
